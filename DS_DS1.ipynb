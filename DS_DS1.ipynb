{
  "nbformat": 4,
  "nbformat_minor": 0,
  "metadata": {
    "colab": {
      "provenance": [],
      "toc_visible": true
    },
    "kernelspec": {
      "name": "python3",
      "display_name": "Python 3"
    },
    "language_info": {
      "name": "python"
    }
  },
  "cells": [
    {
      "cell_type": "markdown",
      "source": [
        "1. Lists\n",
        "  - inside [ ]\n",
        "  "
      ],
      "metadata": {
        "id": "_UJCNgqHHyRC"
      }
    },
    {
      "cell_type": "code",
      "execution_count": null,
      "metadata": {
        "colab": {
          "base_uri": "https://localhost:8080/"
        },
        "id": "KxE2BJboHHTC",
        "outputId": "3b5ad0fd-fc42-44bb-d386-de1264feae2d"
      },
      "outputs": [
        {
          "output_type": "stream",
          "name": "stdout",
          "text": [
            "Average Temperature : 34.04285714285714\n",
            "34.1\n",
            "[33.0, 35.0, 34.1, 36.1, 35.4]\n",
            "[32.5, 32.2, 33.0]\n",
            "[33.7, 32.2, 33.0, 35.0, 34.1, 36.1, 35.4]\n",
            "[33.7, 32.2, 33.0, 35.0, 34.1, 36.1, 35.4, 36.2]\n",
            "[33.7, 32.2, 33.0, 33.6, 35.0, 34.1, 36.1, 35.4, 36.2]\n",
            "[33.7, 32.2, 33.0, 33.6, 35.0, 34.1, 36.1, 35.4]\n",
            "[32.2, 33.0, 33.6, 33.7, 34.1, 35.0, 35.4, 36.1]\n",
            "[32.2, 33.0, 33.6, 33.7, 35.0, 35.4, 36.1]\n",
            "[32.2, 33.0, 33.6, 33.7, 35.4, 36.1]\n"
          ]
        }
      ],
      "source": [
        "#Daily temp collected from sensors\n",
        "daily_temp = [32.5, 32.2, 33.0, 35.0, 34.1, 36.1, 35.4]\n",
        "\n",
        "print(f'Average Temperature : {(sum(daily_temp)/len(daily_temp))}')\n",
        "\n",
        "#Accessing element\n",
        "print(daily_temp[4])\n",
        "\n",
        "#slicing\n",
        "print(daily_temp[-5:])\n",
        "\n",
        "print(daily_temp[:3])\n",
        "\n",
        "daily_temp[0] = 33.7\n",
        "print(daily_temp)\n",
        "\n",
        "#Append\n",
        "daily_temp.append(36.2)\n",
        "print(daily_temp)\n",
        "\n",
        "#Insert\n",
        "daily_temp.insert(3, 33.6)\n",
        "print(daily_temp)\n",
        "\n",
        "#Remove\n",
        "daily_temp.remove(36.2)\n",
        "print(daily_temp)\n",
        "\n",
        "#Sort\n",
        "daily_temp.sort()\n",
        "print(daily_temp)\n",
        "\n",
        "#Delete Specific Index Value\n",
        "del(daily_temp[-4])\n",
        "print (daily_temp)\n",
        "\n",
        "daily_temp.pop(-3)\n",
        "print(daily_temp)"
      ]
    },
    {
      "cell_type": "markdown",
      "source": [
        "2. Tuple\n",
        "  - inside ( )\n"
      ],
      "metadata": {
        "id": "XAtVNbgvRuOc"
      }
    },
    {
      "cell_type": "code",
      "source": [
        "#Daily temp collected from sensors\n",
        "\n",
        "daily_temp = (32.5, 32.2, 33.0, 35.0, 34.1, 36.1, 35.4)\n",
        "temp = (33.6, 37.4)\n",
        "\n",
        "print(daily_temp + temp)\n",
        "\n",
        "#Accessing element\n",
        "print(daily_temp[4])\n",
        "\n",
        "#slicing\n",
        "print(daily_temp[-5:])\n",
        "\n",
        "print(daily_temp[:3])\n",
        "\n",
        "print(daily_temp.index(35.4))\n",
        "\n",
        "#Converting\n",
        "temp_list = list(daily_temp)\n",
        "print(temp_list)\n",
        "\n",
        "temp_tuple = tuple(daily_temp)\n",
        "print(temp_tuple)\n",
        "\n"
      ],
      "metadata": {
        "colab": {
          "base_uri": "https://localhost:8080/"
        },
        "id": "RBspZT1vRw9g",
        "outputId": "b5ebf202-501a-4320-d203-42d1fc613d5e"
      },
      "execution_count": null,
      "outputs": [
        {
          "output_type": "stream",
          "name": "stdout",
          "text": [
            "(32.5, 32.2, 33.0, 35.0, 34.1, 36.1, 35.4, 33.6, 37.4)\n",
            "34.1\n",
            "(33.0, 35.0, 34.1, 36.1, 35.4)\n",
            "(32.5, 32.2, 33.0)\n",
            "6\n",
            "[32.5, 32.2, 33.0, 35.0, 34.1, 36.1, 35.4]\n",
            "(32.5, 32.2, 33.0, 35.0, 34.1, 36.1, 35.4)\n"
          ]
        }
      ]
    },
    {
      "cell_type": "markdown",
      "source": [
        "3. Dictionary"
      ],
      "metadata": {
        "id": "FtYsdcTCQR-a"
      }
    },
    {
      "cell_type": "code",
      "source": [
        "#Weather data\n",
        "\n",
        "weather = {\n",
        "    'Monday': 32.5,\n",
        "    'Tuesday': 35.6,\n",
        "    'Wednesday': 37.3,\n",
        "    'Thursday': 33.4\n",
        "}\n",
        "\n",
        "print(weather)\n",
        "\n",
        "print(weather['Wednesday'])\n",
        "\n",
        "#to avoid error even if value is not present\n",
        "print(weather.get('Friday', 'Not Available'))\n",
        "\n",
        "print(weather.get('Monday', 'Not Available'))\n",
        "\n",
        "#add Sunday value\n",
        "weather['Sunday'] = 35.2\n",
        "print(weather)\n",
        "\n",
        "weather['Sunday'] = 36.1\n",
        "print(weather)\n",
        "\n",
        "#Remove key:value pair\n",
        "weather.pop('Tuesday')\n",
        "print(weather)\n",
        "\n",
        "print('Monday' in weather)\n",
        "print('Monday' not in weather)\n",
        "\n",
        "w_new = weather.copy()\n",
        "print(w_new)\n",
        "\n"
      ],
      "metadata": {
        "colab": {
          "base_uri": "https://localhost:8080/"
        },
        "id": "re3TsK9GQTiR",
        "outputId": "fc04a8e7-cb5c-4288-948f-082be6e9d2fb"
      },
      "execution_count": null,
      "outputs": [
        {
          "output_type": "stream",
          "name": "stdout",
          "text": [
            "{'Monday': 32.5, 'Tuesday': 35.6, 'Wednesday': 37.3, 'Thursday': 33.4}\n",
            "37.3\n",
            "Not Available\n",
            "32.5\n",
            "{'Monday': 32.5, 'Tuesday': 35.6, 'Wednesday': 37.3, 'Thursday': 33.4, 'Sunday': 35.2}\n",
            "{'Monday': 32.5, 'Tuesday': 35.6, 'Wednesday': 37.3, 'Thursday': 33.4, 'Sunday': 36.1}\n",
            "{'Monday': 32.5, 'Wednesday': 37.3, 'Thursday': 33.4, 'Sunday': 36.1}\n",
            "True\n",
            "False\n",
            "{'Monday': 32.5, 'Wednesday': 37.3, 'Thursday': 33.4, 'Sunday': 36.1}\n"
          ]
        }
      ]
    },
    {
      "cell_type": "code",
      "source": [
        "books = {\n",
        "    'Harry Potter': 'J.K. Rowling',\n",
        "    'Trust': 'Hernan Diaz',\n",
        "    'Pride and Prejudice': 'Jane Austin',\n",
        "    'Jane Eyre': 'Charlotte Brontë',\n",
        "    'Song of Achilles': 'Madeline Miller'\n",
        "}\n",
        "print(books)"
      ],
      "metadata": {
        "colab": {
          "base_uri": "https://localhost:8080/"
        },
        "id": "wVbKYsJDZd8n",
        "outputId": "0e106963-9d2a-4b2e-a57f-6d9756548f3d"
      },
      "execution_count": null,
      "outputs": [
        {
          "output_type": "stream",
          "name": "stdout",
          "text": [
            "{'Harry Potter': 'J.K. Rowling', 'Trust': 'Hernan Diaz', 'Pride and Prejudice': 'Jane Austin', 'Jane Eyre': 'Charlotte Brontë', 'Song of Achilles': 'Madeline Miller'}\n"
          ]
        }
      ]
    },
    {
      "cell_type": "markdown",
      "source": [
        "4. Set\n",
        "  - arranged randomly\n",
        "  - differences/similarities:\n",
        "    - will not print duplicate values in set, but will in list\n",
        "    - in dictionary keys cannot be duplicated but values can\n",
        "    - no order format is present in set, nor dictionary\n",
        "    - all three are mutable\n",
        "  - cannot have specific index value"
      ],
      "metadata": {
        "id": "FeVFYRYWa7f4"
      }
    },
    {
      "cell_type": "code",
      "source": [
        "daily_temp = {32.5, 32.2, 33.0, 35.0, 34.1, 36.1, 32.2, 33.0, 34.1, 32.5, 34.5}\n",
        "\n",
        "print(daily_temp)\n",
        "\n",
        "daily_temp.add(37.0)\n",
        "print(daily_temp)\n",
        "\n",
        "\"\"\"daily_temp.remove(37.1)\n",
        "print(daily_temp)\"\"\"\n",
        "\n",
        "daily_temp.discard(37.1)\n",
        "print(daily_temp)\n",
        "\n",
        "daily = {32.5, 32.2, 33.0, 35.0, 34.1, 36.1, 32.2, 33.0, 34.1, 32.5, 34.5}\n",
        "print(daily)\n",
        "daily.clear()\n",
        "print(daily)\n",
        "\n",
        "del daily\n"
      ],
      "metadata": {
        "colab": {
          "base_uri": "https://localhost:8080/"
        },
        "id": "uFxIKK_za5-p",
        "outputId": "4dd04c81-161d-406f-bf37-7fb313c5ae94"
      },
      "execution_count": null,
      "outputs": [
        {
          "output_type": "stream",
          "name": "stdout",
          "text": [
            "{32.5, 33.0, 32.2, 35.0, 34.1, 36.1, 34.5}\n",
            "{32.5, 33.0, 32.2, 35.0, 34.1, 36.1, 34.5, 37.0}\n",
            "{32.5, 33.0, 32.2, 35.0, 34.1, 36.1, 34.5, 37.0}\n",
            "{32.5, 33.0, 32.2, 35.0, 34.1, 36.1, 34.5}\n",
            "set()\n"
          ]
        }
      ]
    },
    {
      "cell_type": "code",
      "source": [
        "set1 = {1, 3, 4, 5, 6}\n",
        "set2 = {3, 7, 2, 4, 9}\n",
        "\n",
        "#union function\n",
        "print(set1 | set2)\n",
        "\n",
        "#intersection (common elements)\n",
        "print(set1 & set2)\n",
        "\n",
        "#diff\n",
        "print(set1 - set2)\n",
        "print(set2 - set1)\n",
        "\n",
        "setb = set1.copy()\n",
        "print(setb)"
      ],
      "metadata": {
        "colab": {
          "base_uri": "https://localhost:8080/"
        },
        "id": "hC-lAVXohqFo",
        "outputId": "a883a430-03c1-4095-88d9-c2f2ffbfa80f"
      },
      "execution_count": null,
      "outputs": [
        {
          "output_type": "stream",
          "name": "stdout",
          "text": [
            "{1, 2, 3, 4, 5, 6, 7, 9}\n",
            "{3, 4}\n",
            "{1, 5, 6}\n",
            "{9, 2, 7}\n",
            "{1, 3, 4, 5, 6}\n"
          ]
        }
      ]
    },
    {
      "cell_type": "code",
      "source": [
        "set1 = [1, 3, 4, 5, 6]\n",
        "set2 = [3, 7, 2, 4, 9]\n",
        "\n",
        "common = set(set1) & set(set2)\n",
        "print(common)"
      ],
      "metadata": {
        "colab": {
          "base_uri": "https://localhost:8080/"
        },
        "id": "H2-OPNIszU7I",
        "outputId": "630f7d93-bb79-4263-f5b3-b6b70e1d89f8"
      },
      "execution_count": null,
      "outputs": [
        {
          "output_type": "stream",
          "name": "stdout",
          "text": [
            "{3, 4}\n"
          ]
        }
      ]
    },
    {
      "cell_type": "code",
      "source": [
        "set1 = [1, 3, 4, 5, 6]\n",
        "set2 = [3, 4]\n",
        "\n",
        "missing = set(set1) - set(set2)\n",
        "print(missing)"
      ],
      "metadata": {
        "colab": {
          "base_uri": "https://localhost:8080/"
        },
        "id": "M1L7Q5_SzsxC",
        "outputId": "993677d0-d315-4668-dcb8-9874ac0e70c4"
      },
      "execution_count": null,
      "outputs": [
        {
          "output_type": "stream",
          "name": "stdout",
          "text": [
            "{1, 5, 6}\n"
          ]
        }
      ]
    }
  ]
}